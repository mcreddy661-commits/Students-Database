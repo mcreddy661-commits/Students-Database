{
 "cells": [
  {
   "cell_type": "code",
   "execution_count": 1,
   "id": "ff9fcc3d-7b4c-4d68-929e-79cbead0781f",
   "metadata": {},
   "outputs": [
    {
     "name": "stdout",
     "output_type": "stream",
     "text": [
      "\n",
      "==== Student Database ====\n",
      "1. Add Student\n",
      "2. Delete Student\n",
      "3. Search Student\n",
      "4. Filter Students\n",
      "5. Top-K Students\n",
      "6. Exit\n",
      "==========================\n"
     ]
    },
    {
     "name": "stdin",
     "output_type": "stream",
     "text": [
      "Enter choice:  1\n",
      "Enter ID:  3205\n",
      "Enter Name:  M Chethan Kumar Reddy\n",
      "Enter Age:  21\n",
      "Enter Course:  CSD\n",
      "Enter Marks:  910\n"
     ]
    },
    {
     "name": "stdout",
     "output_type": "stream",
     "text": [
      "✅ Student added successfully!\n",
      "\n",
      "==== Student Database ====\n",
      "1. Add Student\n",
      "2. Delete Student\n",
      "3. Search Student\n",
      "4. Filter Students\n",
      "5. Top-K Students\n",
      "6. Exit\n",
      "==========================\n"
     ]
    },
    {
     "name": "stdin",
     "output_type": "stream",
     "text": [
      "Enter choice:  2\n",
      "Enter Student ID to delete:  3206\n"
     ]
    },
    {
     "name": "stdout",
     "output_type": "stream",
     "text": [
      "⚠ Student not found.\n",
      "\n",
      "==== Student Database ====\n",
      "1. Add Student\n",
      "2. Delete Student\n",
      "3. Search Student\n",
      "4. Filter Students\n",
      "5. Top-K Students\n",
      "6. Exit\n",
      "==========================\n"
     ]
    },
    {
     "name": "stdin",
     "output_type": "stream",
     "text": [
      "Enter choice:  3\n",
      "Enter ID or Name to search:  M Chethan Kumar Reddy\n"
     ]
    },
    {
     "name": "stdout",
     "output_type": "stream",
     "text": [
      "{'id': '3205', 'name': 'M Chethan Kumar Reddy', 'age': 21, 'course': 'CSD', 'marks': 910.0}\n",
      "\n",
      "==== Student Database ====\n",
      "1. Add Student\n",
      "2. Delete Student\n",
      "3. Search Student\n",
      "4. Filter Students\n",
      "5. Top-K Students\n",
      "6. Exit\n",
      "==========================\n"
     ]
    },
    {
     "name": "stdin",
     "output_type": "stream",
     "text": [
      "Enter choice:  4\n"
     ]
    },
    {
     "name": "stdout",
     "output_type": "stream",
     "text": [
      "Filter Options: \n",
      "1. By Course\n",
      "2. By Minimum Marks\n"
     ]
    },
    {
     "name": "stdin",
     "output_type": "stream",
     "text": [
      "Enter choice:  1\n",
      "Enter course name:  CSD\n"
     ]
    },
    {
     "name": "stdout",
     "output_type": "stream",
     "text": [
      "{'id': '3205', 'name': 'M Chethan Kumar Reddy', 'age': 21, 'course': 'CSD', 'marks': 910.0}\n",
      "\n",
      "==== Student Database ====\n",
      "1. Add Student\n",
      "2. Delete Student\n",
      "3. Search Student\n",
      "4. Filter Students\n",
      "5. Top-K Students\n",
      "6. Exit\n",
      "==========================\n"
     ]
    },
    {
     "name": "stdin",
     "output_type": "stream",
     "text": [
      "Enter choice:  6\n"
     ]
    },
    {
     "name": "stdout",
     "output_type": "stream",
     "text": [
      "👋 Exiting... Goodbye!\n"
     ]
    }
   ],
   "source": [
    "students = []\n",
    "\n",
    "def add_student():\n",
    "    student_id = input(\"Enter ID: \").strip()\n",
    "    for s in students:\n",
    "        if s[\"id\"] == student_id:\n",
    "            print(\"⚠ Student with this ID already exists.\")\n",
    "            return\n",
    "    name = input(\"Enter Name: \").strip()\n",
    "    age = int(input(\"Enter Age: \"))\n",
    "    course = input(\"Enter Course: \").strip()\n",
    "    marks = float(input(\"Enter Marks: \"))\n",
    "    students.append({\n",
    "        \"id\": student_id,\n",
    "        \"name\": name,\n",
    "        \"age\": age,\n",
    "        \"course\": course,\n",
    "        \"marks\": marks\n",
    "    })\n",
    "    print(\"✅ Student added successfully!\")\n",
    "\n",
    "def delete_student():\n",
    "    student_id = input(\"Enter Student ID to delete: \").strip()\n",
    "    global students\n",
    "    updated = [s for s in students if s[\"id\"] != student_id]\n",
    "    if len(updated) == len(students):\n",
    "        print(\"⚠ Student not found.\")\n",
    "    else:\n",
    "        students = updated\n",
    "        print(\"🗑 Student deleted successfully!\")\n",
    "\n",
    "def search_student():\n",
    "    query = input(\"Enter ID or Name to search: \").strip().lower()\n",
    "    results = [s for s in students if s[\"id\"].lower() == query or s[\"name\"].lower() == query]\n",
    "    if results:\n",
    "        for s in results:\n",
    "            print(s)\n",
    "    else:\n",
    "        print(\"⚠ No student found.\")\n",
    "\n",
    "def filter_students():\n",
    "    print(\"Filter Options: \")\n",
    "    print(\"1. By Course\")\n",
    "    print(\"2. By Minimum Marks\")\n",
    "    choice = input(\"Enter choice: \")\n",
    "    if choice == \"1\":\n",
    "        course = input(\"Enter course name: \").strip().lower()\n",
    "        results = [s for s in students if s[\"course\"].lower() == course]\n",
    "    elif choice == \"2\":\n",
    "        min_marks = float(input(\"Enter minimum marks: \"))\n",
    "        results = [s for s in students if s[\"marks\"] >= min_marks]\n",
    "    else:\n",
    "        print(\"⚠ Invalid choice.\")\n",
    "        return\n",
    "    if results:\n",
    "        for s in results:\n",
    "            print(s)\n",
    "    else:\n",
    "        print(\"⚠ No students match the criteria.\")\n",
    "\n",
    "def top_k_students():\n",
    "    if not students:\n",
    "        print(\"⚠ No data available.\")\n",
    "        return\n",
    "    k = int(input(\"Enter K value: \"))\n",
    "    top_students = sorted(students, key=lambda x: x[\"marks\"], reverse=True)[:k]\n",
    "    print(f\"🏆 Top {k} Students:\")\n",
    "    for idx, s in enumerate(top_students, 1):\n",
    "        print(f\"{idx}. {s['name']} (Marks: {s['marks']})\")\n",
    "\n",
    "def menu():\n",
    "    while True:\n",
    "        print(\"\\n==== Student Database ====\")\n",
    "        print(\"1. Add Student\")\n",
    "        print(\"2. Delete Student\")\n",
    "        print(\"3. Search Student\")\n",
    "        print(\"4. Filter Students\")\n",
    "        print(\"5. Top-K Students\")\n",
    "        print(\"6. Exit\")\n",
    "        print(\"==========================\")\n",
    "        choice = input(\"Enter choice: \").strip()\n",
    "        if choice == \"1\":\n",
    "            add_student()\n",
    "        elif choice == \"2\":\n",
    "            delete_student()\n",
    "        elif choice == \"3\":\n",
    "            search_student()\n",
    "        elif choice == \"4\":\n",
    "            filter_students()\n",
    "        elif choice == \"5\":\n",
    "            top_k_students()\n",
    "        elif choice == \"6\":\n",
    "            print(\"👋 Exiting... Goodbye!\")\n",
    "            break\n",
    "        else:\n",
    "            print(\"⚠ Invalid choice. Try again.\")\n",
    "\n",
    "menu()"
   ]
  }
 ],
 "metadata": {
  "kernelspec": {
   "display_name": "Python [conda env:base] *",
   "language": "python",
   "name": "conda-base-py"
  },
  "language_info": {
   "codemirror_mode": {
    "name": "ipython",
    "version": 3
   },
   "file_extension": ".py",
   "mimetype": "text/x-python",
   "name": "python",
   "nbconvert_exporter": "python",
   "pygments_lexer": "ipython3",
   "version": "3.12.7"
  }
 },
 "nbformat": 4,
 "nbformat_minor": 5
}
